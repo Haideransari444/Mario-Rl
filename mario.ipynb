{
 "cells": [
  {
   "cell_type": "code",
   "execution_count": 34,
   "metadata": {},
   "outputs": [],
   "source": [
    "from stable_baselines3.common.vec_env import DummyVecEnv, VecFrameStack\n",
    "from stable_baselines3.common.callbacks import BaseCallback #for saving models\n",
    "from gym.wrappers import FrameStack, GrayScaleObservation\n",
    "from gym_super_mario_bros.actions import SIMPLE_MOVEMENT\n",
    "from nes_py.wrappers import JoypadSpace\n",
    "from matplotlib import pyplot as plt\n",
    "from stable_baselines3 import PPO #main algorithm\n",
    "import gym_super_mario_bros\n",
    "import numpy as np\n",
    "import time\n",
    "import gym \n",
    "import os "
   ]
  },
  {
   "cell_type": "code",
   "execution_count": 2,
   "metadata": {},
   "outputs": [
    {
     "name": "stderr",
     "output_type": "stream",
     "text": [
      "c:\\Users\\Haider\\AppData\\Local\\Programs\\Python\\Python38\\lib\\site-packages\\gym\\envs\\registration.py:505: UserWarning: \u001b[33mWARN: The environment SuperMarioBros-v0 is out of date. You should consider upgrading to version `v3` with the environment ID `SuperMarioBros-v3`.\u001b[0m\n",
      "  logger.warn(\n"
     ]
    }
   ],
   "source": [
    "env = gym_super_mario_bros.make('SuperMarioBros-v0')\n",
    "env = JoypadSpace(env, SIMPLE_MOVEMENT)"
   ]
  },
  {
   "cell_type": "code",
   "execution_count": 3,
   "metadata": {},
   "outputs": [
    {
     "name": "stderr",
     "output_type": "stream",
     "text": [
      "c:\\Users\\Haider\\AppData\\Local\\Programs\\Python\\Python38\\lib\\site-packages\\pyglet\\image\\codecs\\wic.py:289: UserWarning: [WinError -2147417850] Cannot change thread mode after it is set\n",
      "  warnings.warn(str(err))\n"
     ]
    },
    {
     "ename": "KeyboardInterrupt",
     "evalue": "",
     "output_type": "error",
     "traceback": [
      "\u001b[1;31m---------------------------------------------------------------------------\u001b[0m",
      "\u001b[1;31mKeyboardInterrupt\u001b[0m                         Traceback (most recent call last)",
      "Cell \u001b[1;32mIn[3], line 5\u001b[0m\n\u001b[0;32m      3\u001b[0m     \u001b[38;5;28;01mif\u001b[39;00m done: \n\u001b[0;32m      4\u001b[0m         env\u001b[38;5;241m.\u001b[39mreset()\n\u001b[1;32m----> 5\u001b[0m     state, reward, done, info \u001b[38;5;241m=\u001b[39m \u001b[43menv\u001b[49m\u001b[38;5;241;43m.\u001b[39;49m\u001b[43mstep\u001b[49m\u001b[43m(\u001b[49m\u001b[43menv\u001b[49m\u001b[38;5;241;43m.\u001b[39;49m\u001b[43maction_space\u001b[49m\u001b[38;5;241;43m.\u001b[39;49m\u001b[43msample\u001b[49m\u001b[43m(\u001b[49m\u001b[43m)\u001b[49m\u001b[43m)\u001b[49m\u001b[38;5;66;03m#random movement for testing\u001b[39;00m\n\u001b[0;32m      6\u001b[0m     env\u001b[38;5;241m.\u001b[39mrender()\n\u001b[0;32m      7\u001b[0m env\u001b[38;5;241m.\u001b[39mclose()\n",
      "File \u001b[1;32mc:\\Users\\Haider\\AppData\\Local\\Programs\\Python\\Python38\\lib\\site-packages\\nes_py\\wrappers\\joypad_space.py:74\u001b[0m, in \u001b[0;36mJoypadSpace.step\u001b[1;34m(self, action)\u001b[0m\n\u001b[0;32m     59\u001b[0m \u001b[38;5;250m\u001b[39m\u001b[38;5;124;03m\"\"\"\u001b[39;00m\n\u001b[0;32m     60\u001b[0m \u001b[38;5;124;03mTake a step using the given action.\u001b[39;00m\n\u001b[0;32m     61\u001b[0m \n\u001b[1;32m   (...)\u001b[0m\n\u001b[0;32m     71\u001b[0m \n\u001b[0;32m     72\u001b[0m \u001b[38;5;124;03m\"\"\"\u001b[39;00m\n\u001b[0;32m     73\u001b[0m \u001b[38;5;66;03m# take the step and record the output\u001b[39;00m\n\u001b[1;32m---> 74\u001b[0m \u001b[38;5;28;01mreturn\u001b[39;00m \u001b[38;5;28;43mself\u001b[39;49m\u001b[38;5;241;43m.\u001b[39;49m\u001b[43menv\u001b[49m\u001b[38;5;241;43m.\u001b[39;49m\u001b[43mstep\u001b[49m\u001b[43m(\u001b[49m\u001b[38;5;28;43mself\u001b[39;49m\u001b[38;5;241;43m.\u001b[39;49m\u001b[43m_action_map\u001b[49m\u001b[43m[\u001b[49m\u001b[43maction\u001b[49m\u001b[43m]\u001b[49m\u001b[43m)\u001b[49m\n",
      "File \u001b[1;32mc:\\Users\\Haider\\AppData\\Local\\Programs\\Python\\Python38\\lib\\site-packages\\gym\\wrappers\\time_limit.py:17\u001b[0m, in \u001b[0;36mTimeLimit.step\u001b[1;34m(self, action)\u001b[0m\n\u001b[0;32m     16\u001b[0m \u001b[38;5;28;01mdef\u001b[39;00m\u001b[38;5;250m \u001b[39m\u001b[38;5;21mstep\u001b[39m(\u001b[38;5;28mself\u001b[39m, action):\n\u001b[1;32m---> 17\u001b[0m     observation, reward, done, info \u001b[38;5;241m=\u001b[39m \u001b[38;5;28;43mself\u001b[39;49m\u001b[38;5;241;43m.\u001b[39;49m\u001b[43menv\u001b[49m\u001b[38;5;241;43m.\u001b[39;49m\u001b[43mstep\u001b[49m\u001b[43m(\u001b[49m\u001b[43maction\u001b[49m\u001b[43m)\u001b[49m\n\u001b[0;32m     18\u001b[0m     \u001b[38;5;28mself\u001b[39m\u001b[38;5;241m.\u001b[39m_elapsed_steps \u001b[38;5;241m+\u001b[39m\u001b[38;5;241m=\u001b[39m \u001b[38;5;241m1\u001b[39m\n\u001b[0;32m     19\u001b[0m     \u001b[38;5;28;01mif\u001b[39;00m \u001b[38;5;28mself\u001b[39m\u001b[38;5;241m.\u001b[39m_elapsed_steps \u001b[38;5;241m>\u001b[39m\u001b[38;5;241m=\u001b[39m \u001b[38;5;28mself\u001b[39m\u001b[38;5;241m.\u001b[39m_max_episode_steps:\n",
      "File \u001b[1;32mc:\\Users\\Haider\\AppData\\Local\\Programs\\Python\\Python38\\lib\\site-packages\\gym\\wrappers\\order_enforcing.py:13\u001b[0m, in \u001b[0;36mOrderEnforcing.step\u001b[1;34m(self, action)\u001b[0m\n\u001b[0;32m     11\u001b[0m \u001b[38;5;28;01mdef\u001b[39;00m\u001b[38;5;250m \u001b[39m\u001b[38;5;21mstep\u001b[39m(\u001b[38;5;28mself\u001b[39m, action):\n\u001b[0;32m     12\u001b[0m     \u001b[38;5;28;01massert\u001b[39;00m \u001b[38;5;28mself\u001b[39m\u001b[38;5;241m.\u001b[39m_has_reset, \u001b[38;5;124m\"\u001b[39m\u001b[38;5;124mCannot call env.step() before calling reset()\u001b[39m\u001b[38;5;124m\"\u001b[39m\n\u001b[1;32m---> 13\u001b[0m     observation, reward, done, info \u001b[38;5;241m=\u001b[39m \u001b[38;5;28;43mself\u001b[39;49m\u001b[38;5;241;43m.\u001b[39;49m\u001b[43menv\u001b[49m\u001b[38;5;241;43m.\u001b[39;49m\u001b[43mstep\u001b[49m\u001b[43m(\u001b[49m\u001b[43maction\u001b[49m\u001b[43m)\u001b[49m\n\u001b[0;32m     14\u001b[0m     \u001b[38;5;28;01mreturn\u001b[39;00m observation, reward, done, info\n",
      "File \u001b[1;32mc:\\Users\\Haider\\AppData\\Local\\Programs\\Python\\Python38\\lib\\site-packages\\nes_py\\nes_env.py:300\u001b[0m, in \u001b[0;36mNESEnv.step\u001b[1;34m(self, action)\u001b[0m\n\u001b[0;32m    298\u001b[0m \u001b[38;5;28mself\u001b[39m\u001b[38;5;241m.\u001b[39mcontrollers[\u001b[38;5;241m0\u001b[39m][:] \u001b[38;5;241m=\u001b[39m action\n\u001b[0;32m    299\u001b[0m \u001b[38;5;66;03m# pass the action to the emulator as an unsigned byte\u001b[39;00m\n\u001b[1;32m--> 300\u001b[0m \u001b[43m_LIB\u001b[49m\u001b[38;5;241;43m.\u001b[39;49m\u001b[43mStep\u001b[49m\u001b[43m(\u001b[49m\u001b[38;5;28;43mself\u001b[39;49m\u001b[38;5;241;43m.\u001b[39;49m\u001b[43m_env\u001b[49m\u001b[43m)\u001b[49m\n\u001b[0;32m    301\u001b[0m \u001b[38;5;66;03m# get the reward for this step\u001b[39;00m\n\u001b[0;32m    302\u001b[0m reward \u001b[38;5;241m=\u001b[39m \u001b[38;5;28mfloat\u001b[39m(\u001b[38;5;28mself\u001b[39m\u001b[38;5;241m.\u001b[39m_get_reward())\n",
      "\u001b[1;31mKeyboardInterrupt\u001b[0m: "
     ]
    }
   ],
   "source": [
    "done = True \n",
    "for step in range (10000): \n",
    "    if done: \n",
    "        env.reset()\n",
    "    state, reward, done, info = env.step(env.action_space.sample())#random movement for testing\n",
    "    env.render()\n",
    "env.close()"
   ]
  },
  {
   "cell_type": "code",
   "execution_count": 5,
   "metadata": {},
   "outputs": [
    {
     "data": {
      "text/plain": [
       "['right', 'A', 'B']"
      ]
     },
     "execution_count": 5,
     "metadata": {},
     "output_type": "execute_result"
    }
   ],
   "source": [
    "SIMPLE_MOVEMENT[env.action_space.sample()]\n",
    "#if you re run the cell it will show the random action again and again "
   ]
  },
  {
   "cell_type": "code",
   "execution_count": 6,
   "metadata": {},
   "outputs": [],
   "source": [
    "state = env.reset()\n",
    "# it is a single frame which is in color so we will give these values to the Ai model \n",
    "#on which the AI model will train after some preprocessing "
   ]
  },
  {
   "cell_type": "code",
   "execution_count": 7,
   "metadata": {},
   "outputs": [
    {
     "data": {
      "text/plain": [
       "(240, 256, 3)"
      ]
     },
     "execution_count": 7,
     "metadata": {},
     "output_type": "execute_result"
    }
   ],
   "source": [
    "state.shape"
   ]
  },
  {
   "cell_type": "markdown",
   "metadata": {},
   "source": [
    "Reward Function\n",
    "\n",
    "The reward function assumes the objective of the game is to move as far right as possible (increase the agent's x value), as fast as possible, without dying. To model this game, three separate variables compose the reward:\n",
    "\n",
    "    v: the difference in agent x values between states\n",
    "        in this case this is instantaneous velocity for the given step\n",
    "        v = x1 - x0\n",
    "            x0 is the x position before the step\n",
    "            x1 is the x position after the step\n",
    "        moving right ⇔ v > 0\n",
    "        moving left ⇔ v < 0\n",
    "        not moving ⇔ v = 0\n",
    "    c: the difference in the game clock between frames\n",
    "        the penalty prevents the agent from standing still\n",
    "        c = c0 - c1\n",
    "            c0 is the clock reading before the step\n",
    "            c1 is the clock reading after the step\n",
    "        no clock tick ⇔ c = 0\n",
    "        clock tick ⇔ c < 0\n",
    "    d: a death penalty that penalizes the agent for dying in a state\n",
    "        this penalty encourages the agent to avoid death\n",
    "        alive ⇔ d = 0\n",
    "        dead ⇔ d = -15\n",
    "\n",
    "r = v + c + d\n",
    "\n",
    "The reward is clipped into the range (-15, 15)."
   ]
  },
  {
   "cell_type": "code",
   "execution_count": 8,
   "metadata": {},
   "outputs": [
    {
     "data": {
      "text/plain": [
       "0.0"
      ]
     },
     "execution_count": 8,
     "metadata": {},
     "output_type": "execute_result"
    }
   ],
   "source": [
    "env.step(1)[1]\n",
    "#so the value at the bottom is 0.0 this is the reward \n",
    "#and we have to train the AI to maximize this reward \n",
    "#it is 0 when the mario didnt do a thing and it increases\n",
    "#whe it do something that is positive in game like stepping forward\n",
    "#without dying or hitting a pipe"
   ]
  },
  {
   "cell_type": "code",
   "execution_count": 9,
   "metadata": {},
   "outputs": [
    {
     "data": {
      "text/plain": [
       "{'coins': 0,\n",
       " 'flag_get': False,\n",
       " 'life': 2,\n",
       " 'score': 0,\n",
       " 'stage': 1,\n",
       " 'status': 'small',\n",
       " 'time': 400,\n",
       " 'world': 1,\n",
       " 'x_pos': 40,\n",
       " 'y_pos': 79}"
      ]
     },
     "execution_count": 9,
     "metadata": {},
     "output_type": "execute_result"
    }
   ],
   "source": [
    "env.step(1)[3]"
   ]
  },
  {
   "cell_type": "markdown",
   "metadata": {},
   "source": [
    "1-so as we all know that the colored \n",
    "image is made up of R,G,B pixels and \n",
    "these are the individual values of the pixel \n",
    "but what if we convert the image to greyscale it would \n",
    "return the values between the 0,256 or 255 so it would possibally \n",
    "cut the training data to the half or even more so we need to\n",
    "\n",
    "\n",
    "\n",
    "2- and also we have to do a frame stacking so out AI model have the \n",
    "history of the previous frame using that the model can predict the next frame\n",
    "and also remember the location and movement of the enemy so we can use that to our advantage"
   ]
  },
  {
   "cell_type": "markdown",
   "metadata": {},
   "source": [
    "A vectorization wrapper is a tool that wraps around multiple environments and allows them to be run in parallel. Instead of running one environment at a time, vectorized environments execute multiple environments simultaneously, making the training process faster and more efficient by collecting more data in less time."
   ]
  },
  {
   "cell_type": "code",
   "execution_count": 10,
   "metadata": {},
   "outputs": [
    {
     "name": "stdout",
     "output_type": "stream",
     "text": [
      "2.4.1+cu118\n",
      "11.8\n",
      "90100\n"
     ]
    }
   ],
   "source": [
    "import torch\n",
    "print(torch.__version__)  # Check PyTorch version\n",
    "print(torch.version.cuda)  # Check if CUDA is available\n",
    "print(torch.backends.cudnn.version())  # Check cuDNN version"
   ]
  },
  {
   "cell_type": "code",
   "execution_count": 11,
   "metadata": {},
   "outputs": [],
   "source": [
    "env = gym.make('SuperMarioBros-v0', )\n",
    "env = JoypadSpace(env, SIMPLE_MOVEMENT)"
   ]
  },
  {
   "cell_type": "markdown",
   "metadata": {},
   "source": [
    "1-Create the envoirnment \n",
    "\n",
    "2-Wrap up the simulation in simple controls \n",
    "\n",
    "3- grayscale \n",
    "\n",
    "4- Frame stack\n",
    "\n",
    "5-stack the frames"
   ]
  },
  {
   "cell_type": "markdown",
   "metadata": {},
   "source": [
    "DummyVecEnv:\n",
    "\n",
    "    It's a wrapper class that allows you to wrap a single environment or multiple environments to make them vectorized. It doesn't run the environments in parallel (this is what SubprocVecEnv or VecEnv are used for), but it makes the environment compatible with algorithms that expect vectorized environments.\n"
   ]
  },
  {
   "cell_type": "code",
   "execution_count": 12,
   "metadata": {},
   "outputs": [],
   "source": [
    "\n",
    "env = gym.make('SuperMarioBros-v0')\n",
    "env = JoypadSpace(env, SIMPLE_MOVEMENT)\n"
   ]
  },
  {
   "cell_type": "code",
   "execution_count": 13,
   "metadata": {},
   "outputs": [],
   "source": [
    "env = GrayScaleObservation(env,keep_dim=True)\n"
   ]
  },
  {
   "cell_type": "code",
   "execution_count": 3,
   "metadata": {},
   "outputs": [],
   "source": [
    "\n",
    "\n",
    "def make_env():\n",
    "    env = gym_super_mario_bros.make('SuperMarioBros-v0')\n",
    "    env = JoypadSpace(env, SIMPLE_MOVEMENT)\n",
    "    env = GrayScaleObservation(env, keep_dim=True)\n",
    "    env.render_mode = \"human\"  \n",
    "    return env\n",
    "\n",
    "env = DummyVecEnv([make_env])\n",
    "env = VecFrameStack(env, 4, channels_order=\"last\")\n"
   ]
  },
  {
   "cell_type": "code",
   "execution_count": 13,
   "metadata": {},
   "outputs": [],
   "source": [
    "state = env.reset()"
   ]
  },
  {
   "cell_type": "code",
   "execution_count": 5,
   "metadata": {},
   "outputs": [
    {
     "data": {
      "text/plain": [
       "(1, 240, 256, 4)"
      ]
     },
     "execution_count": 5,
     "metadata": {},
     "output_type": "execute_result"
    }
   ],
   "source": [
    "state.shape"
   ]
  },
  {
   "cell_type": "code",
   "execution_count": 6,
   "metadata": {},
   "outputs": [
    {
     "data": {
      "text/plain": [
       "array([[[  0,   0,   0, 140],\n",
       "        [  0,   0,   0, 140],\n",
       "        [  0,   0,   0, 140],\n",
       "        ...,\n",
       "        [  0,   0,   0, 140],\n",
       "        [  0,   0,   0, 140],\n",
       "        [  0,   0,   0, 140]],\n",
       "\n",
       "       [[  0,   0,   0, 140],\n",
       "        [  0,   0,   0, 140],\n",
       "        [  0,   0,   0, 140],\n",
       "        ...,\n",
       "        [  0,   0,   0, 140],\n",
       "        [  0,   0,   0, 140],\n",
       "        [  0,   0,   0, 140]],\n",
       "\n",
       "       [[  0,   0,   0, 140],\n",
       "        [  0,   0,   0, 140],\n",
       "        [  0,   0,   0, 140],\n",
       "        ...,\n",
       "        [  0,   0,   0, 140],\n",
       "        [  0,   0,   0, 140],\n",
       "        [  0,   0,   0, 140]],\n",
       "\n",
       "       ...,\n",
       "\n",
       "       [[  0,   0,   0, 214],\n",
       "        [  0,   0,   0, 124],\n",
       "        [  0,   0,   0, 124],\n",
       "        ...,\n",
       "        [  0,   0,   0, 124],\n",
       "        [  0,   0,   0, 124],\n",
       "        [  0,   0,   0,   0]],\n",
       "\n",
       "       [[  0,   0,   0, 214],\n",
       "        [  0,   0,   0, 124],\n",
       "        [  0,   0,   0, 124],\n",
       "        ...,\n",
       "        [  0,   0,   0, 124],\n",
       "        [  0,   0,   0,   0],\n",
       "        [  0,   0,   0,   0]],\n",
       "\n",
       "       [[  0,   0,   0, 124],\n",
       "        [  0,   0,   0,   0],\n",
       "        [  0,   0,   0,   0],\n",
       "        ...,\n",
       "        [  0,   0,   0,   0],\n",
       "        [  0,   0,   0,   0],\n",
       "        [  0,   0,   0, 124]]], dtype=uint8)"
      ]
     },
     "execution_count": 6,
     "metadata": {},
     "output_type": "execute_result"
    }
   ],
   "source": [
    "state[0]"
   ]
  },
  {
   "cell_type": "code",
   "execution_count": 14,
   "metadata": {},
   "outputs": [],
   "source": [
    "state , reward, done, info = env.step([1])"
   ]
  },
  {
   "cell_type": "code",
   "execution_count": 8,
   "metadata": {},
   "outputs": [
    {
     "data": {
      "text/plain": [
       "<matplotlib.image.AxesImage at 0x2ccada55e80>"
      ]
     },
     "execution_count": 8,
     "metadata": {},
     "output_type": "execute_result"
    },
    {
     "data": {
      "image/png": "[encoded data removed]",
      "text/plain": [
       "<Figure size 640x480 with 1 Axes>"
      ]
     },
     "metadata": {},
     "output_type": "display_data"
    }
   ],
   "source": [
    "plt.imshow(state[0])"
   ]
  },
  {
   "cell_type": "code",
   "execution_count": 32,
   "metadata": {},
   "outputs": [
    {
     "data": {
      "image/png": "[encoded data removed]",
      "text/plain": [
       "<Figure size 2000x1000 with 4 Axes>"
      ]
     },
     "metadata": {},
     "output_type": "display_data"
    }
   ],
   "source": [
    "plt.figure(figsize=(20, 10))\n",
    "for i in range(state.shape[-1]):\n",
    "    plt.subplot(1, 4, i + 1)\n",
    "    plt.imshow(state[0, :, :, i], cmap='gray')\n",
    "    plt.axis('off')\n",
    "plt.show()"
   ]
  },
  {
   "cell_type": "markdown",
   "metadata": {},
   "source": [
    "**``PPO itself is a widely used policy gradient method in reinforcement learning that balances exploration and exploitation by optimizing policies with clipped updates to avoid drastic changes that might destabilize learning.``**"
   ]
  },
  {
   "cell_type": "markdown",
   "metadata": {},
   "source": [
    "Clipped Objective Function: Prevents drastic policy updates, ensuring stable learning.\n",
    "Sample Efficiency: Uses collected data more effectively, reducing training time.\n",
    "Advantage Estimation: Helps evaluate actions by reducing variance and improving performance.\n",
    "Entropy Regularization: Encourages exploration to avoid premature convergence.\n",
    "Trust Region Constraint: Ensures gradual policy updates within safe limits."
   ]
  },
  {
   "cell_type": "code",
   "execution_count": 35,
   "metadata": {},
   "outputs": [],
   "source": [
    "class TrainAndLoggingCallback(BaseCallback):\n",
    "\n",
    "    def __init__(self, check_freq, save_path, verbose=1):\n",
    "        super(TrainAndLoggingCallback, self).__init__(verbose)\n",
    "        self.check_freq = check_freq\n",
    "        self.save_path = save_path\n",
    "\n",
    "    def _init_callback(self):\n",
    "        if self.save_path is not None:\n",
    "            os.makedirs(self.save_path, exist_ok=True)\n",
    "\n",
    "    def _on_step(self):\n",
    "        if self.n_calls % self.check_freq == 0:\n",
    "            model_path = os.path.join(self.save_path, 'best_model_{}'.format(self.n_calls))\n",
    "            self.model.save(model_path)\n",
    "\n",
    "        return True"
   ]
  },
  {
   "cell_type": "code",
   "execution_count": null,
   "metadata": {},
   "outputs": [],
   "source": [
    "CHECKPOINT_DIR  = './train/'\n",
    "LOG_DIR = './logs/'"
   ]
  },
  {
   "cell_type": "markdown",
   "metadata": {},
   "source": [
    "Imagine you're teaching a robot to play a game. You want it to learn the best way to play by trying things out and adjusting its strategy, which is called a policy.  PPO is a way to help the robot improve its strategy in a safe and efficient way\n",
    ".\n",
    "Here's the gist:\n",
    "•\n",
    "Trying out a strategy: The robot plays the game for a bit, collecting data about what it did and what happened\n",
    ".\n",
    "•\n",
    "Calculating the advantage: The robot figures out which actions in its current strategy were good and which were not so good. This is called calculating the advantage, which is how much better an action is compared to the average action in a state\n",
    ".\n",
    "•\n",
    "Updating the strategy: Instead of completely changing its strategy based on this data, which can be risky, PPO makes small, careful adjustments\n",
    ". It uses a special trick called \"clipping\"\n",
    ".\n",
    "◦\n",
    "Clipping: Clipping limits how much the robot's new strategy can differ from the old one\n",
    ". It's like putting a leash on the robot so it doesn't make huge, possibly bad, changes\n",
    ".\n",
    "◦\n",
    "Why clipping?: Without a limit, the robot might make big changes that look good at first, but actually make its overall performance worse. Clipping helps PPO avoid these pitfalls\n",
    ".\n",
    "•\n",
    "Multiple Updates: PPO doesn't just update the strategy once with the data it collected. It uses the same data to update the strategy multiple times which helps it learn more efficiently\n",
    ".\n",
    "•\n",
    "Balancing Act: PPO also uses an additional bonus, called an entropy bonus, to encourage the robot to explore different strategies and to find more optimal strategies\n",
    ".\n",
    "Key Ideas of PPO:\n",
    "•\n",
    "It is more efficient than other methods: PPO is designed to be data-efficient meaning it can learn well with less data compared to older methods\n",
    ".\n",
    "•\n",
    "It’s safer: PPO avoids large, potentially harmful updates\n",
    ".\n",
    "•\n",
    "It’s general: It can work in various situations, including different types of games and problems and can work well with neural networks that use parameter sharing\n",
    ".\n",
    "•\n",
    "It is simple: PPO is easier to implement compared to other similar algorithms such as TRPO\n",
    ".\n",
    "How does PPO compare to other methods?\n",
    "•\n",
    "PPO is better than \"vanilla\" policy gradient methods, which have poor data efficiency\n",
    ".\n",
    "•\n",
    "It is an improvement over methods like Deep Q-learning, which struggles with continuous control problems\n",
    ".\n",
    "•\n",
    "PPO performs better than other online policy gradient methods like A2C\n",
    ". It is simpler than ACER and performs as well or better\n",
    ".\n",
    "•\n",
    "It is easier to implement and more general than Trust Region Policy Optimization (TRPO), while achieving similar stability and reliability\n",
    ".\n",
    "In summary, PPO is like a careful and efficient teacher for robots learning to play games. It helps them improve their strategy gradually, without making drastic changes that could hurt their progress"
   ]
  },
  {
   "cell_type": "markdown",
   "metadata": {},
   "source": []
  }
 ],
 "metadata": {
  "kernelspec": {
   "display_name": "Python 3",
   "language": "python",
   "name": "python3"
  },
  "language_info": {
   "codemirror_mode": {
    "name": "ipython",
    "version": 3
   },
   "file_extension": ".py",
   "mimetype": "text/x-python",
   "name": "python",
   "nbconvert_exporter": "python",
   "pygments_lexer": "ipython3",
   "version": "3.8.0"
  }
 },
 "nbformat": 4,
 "nbformat_minor": 2
}
